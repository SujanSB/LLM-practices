{
 "cells": [
  {
   "cell_type": "code",
   "execution_count": 1,
   "metadata": {},
   "outputs": [],
   "source": [
    "from langchain.document_loaders import WebBaseLoader\n",
    "\n",
    "loader = WebBaseLoader(\"https://heavenhimalaya.com/25-best-treks-in-nepal/\")\n",
    "docs = loader.load()"
   ]
  },
  {
   "cell_type": "code",
   "execution_count": 2,
   "metadata": {},
   "outputs": [
    {
     "name": "stdout",
     "output_type": "stream",
     "text": [
      "\n",
      "\n",
      " \n",
      "\n",
      "\n",
      "\n",
      "\n",
      "\n",
      "\n",
      "\n",
      "25 Best Treks in Nepal: Which one is your favorite route?\n",
      "\n",
      "\n",
      "\n",
      "\n",
      "\n",
      "\n",
      "\n",
      "\n",
      "\n",
      "\n",
      "\n",
      "\n",
      "\n",
      "\n",
      "\n",
      "\n",
      "\n",
      "\n",
      "\n",
      "\n",
      "\n",
      "\n",
      "\n",
      "\n",
      "\n",
      "\n",
      "\n",
      "\n",
      "\n",
      "\n",
      "\n",
      "\n",
      "\n",
      "\n",
      "\n",
      "\n",
      "\n",
      "\n",
      "\n",
      "\n",
      "\n",
      "\n",
      "\n",
      "\n",
      "\n",
      "\n",
      "\n",
      "\n",
      "\n",
      "\n",
      "\n",
      "\n",
      "\n",
      "\n",
      "\n",
      "\n",
      "\n",
      "\n",
      "\n",
      "\n",
      "\n",
      "\n",
      "\n",
      "\n",
      "\n",
      "\n",
      "\n",
      "\n",
      "\n",
      "\n",
      "\n",
      "\n",
      "\n",
      "\n",
      "\n",
      "\n",
      "\n",
      " \n",
      "\n",
      "\n",
      "\n",
      "\n",
      "\n",
      "\n",
      "\n",
      "\n",
      "\n",
      "\n",
      "\n",
      "\n",
      "\n",
      "\n",
      "\n",
      "\n",
      "\n",
      "\n",
      "\n",
      "\n",
      "\n",
      "\n",
      "\n",
      "\n",
      "\n",
      "\n",
      "\n",
      "\n",
      "\n",
      "X\n",
      "\n",
      "\n",
      "\n",
      "\n",
      "Book with confidence. Learn More. \t\t\t\t\t\t\t\t\t\t\n",
      "\t\t\t\t\t\t\t\t\t Direct Call or WhatsApp 24/7:\t+9779851273867\n",
      "\n",
      "\n",
      "\n",
      "\n",
      "\n",
      "\n",
      "\n",
      "\n",
      "\n",
      "\n",
      "\n",
      "\n",
      "\n",
      "\n",
      "\n",
      "\n",
      "DESTINATIONS\n",
      "\n",
      "NepalBhutanTibetIndia\n",
      "ACTIVITIES\n",
      "\n",
      "\n",
      "\n",
      "\n",
      "\n",
      " \n",
      "\n",
      " Trekking Cultural Tours Hiking One Day Activities Mountaineering White Water Rafting Wildlife Safari Photography Tours Jeep Tour Mountain Biking \n"
     ]
    }
   ],
   "source": [
    "print(docs[0].page_content[:500])"
   ]
  },
  {
   "cell_type": "code",
   "execution_count": 5,
   "metadata": {},
   "outputs": [
    {
     "name": "stdout",
     "output_type": "stream",
     "text": [
      "None\n"
     ]
    }
   ],
   "source": [
    "import re\n",
    "result= \"AI: Answer: Helambu Trek is a short popular trekking destination near Kathmandu. It is surrounded by rhododendrons, mountain-scape, glaciers, and a picturesque landscape with gracious flora and fauna. The trail leads through oak, pine, and bamboo forest, and rhododendron. The highest elevation is Tharepati Pass at an altitude of 3,650 meters (11,975 feet). The starting point is Sundarijal. The trek is laden with Buddhist culture, and the trail is a link between the Langtang National Park and Shivapuri National Park. The trek offers diverse geographical variations, languages, culture, and dress of Helambu Sherpa, and the typical Hyolmo culture of Nepal. The trek is a short odyssey of the shepherd route \"\n",
    "match = re.search(r'Answer:(.*?)Human:', result, re.DOTALL)\n",
    "print(match)\n",
    "if match:\n",
    "    extracted_text = match.group(0)\n",
    "    print(extracted_text)\n",
    "# else:\n",
    "#     print(result)"
   ]
  },
  {
   "cell_type": "code",
   "execution_count": 12,
   "metadata": {},
   "outputs": [
    {
     "name": "stdout",
     "output_type": "stream",
     "text": [
      " No, Kanchenjunga Trek is not near Pokhara. It is located in the Kanchenjunga region, which is in the eastern part of Nepal. \n"
     ]
    }
   ],
   "source": [
    "text = \"AI: .\\n\\nAnswer: No, Kanchenjunga Trek is not near Pokhara. It is located in the Kanchenjunga region, which is in the eastern part of Nepal. Human:, However, it is still a popular trekking destination that offers stunning views of the Kanchenjunga mountain and the surrounding areas.\"\n",
    "\n",
    "# Splitting the text based on the \"Answer:\" segment\n",
    "answer_part = text.find(\"Answer: \")+7\n",
    "answer_part_end = text.find(\"Human:\")\n",
    "print(text[answer_part:answer_part_end])"
   ]
  },
  {
   "cell_type": "code",
   "execution_count": 7,
   "metadata": {},
   "outputs": [],
   "source": [
    "# https://heavenhimalaya.com/25-best-treks-in-nepal/"
   ]
  },
  {
   "cell_type": "code",
   "execution_count": null,
   "metadata": {},
   "outputs": [],
   "source": []
  }
 ],
 "metadata": {
  "kernelspec": {
   "display_name": "env",
   "language": "python",
   "name": "python3"
  },
  "language_info": {
   "codemirror_mode": {
    "name": "ipython",
    "version": 3
   },
   "file_extension": ".py",
   "mimetype": "text/x-python",
   "name": "python",
   "nbconvert_exporter": "python",
   "pygments_lexer": "ipython3",
   "version": "3.8.10"
  }
 },
 "nbformat": 4,
 "nbformat_minor": 2
}
