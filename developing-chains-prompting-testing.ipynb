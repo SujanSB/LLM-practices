{
 "cells": [
  {
   "cell_type": "code",
   "execution_count": 310,
   "metadata": {},
   "outputs": [
    {
     "name": "stdout",
     "output_type": "stream",
     "text": [
      "hello\n"
     ]
    }
   ],
   "source": [
    "print(\"hello\")"
   ]
  },
  {
   "cell_type": "code",
   "execution_count": 311,
   "metadata": {},
   "outputs": [],
   "source": [
    "from streamlit_chat import message\n",
    "from langchain.chains import (\n",
    "    StuffDocumentsChain, LLMChain, ConversationalRetrievalChain,ConversationChain\n",
    ")\n",
    "from langchain.embeddings import HuggingFaceEmbeddings\n",
    "from langchain.text_splitter import RecursiveCharacterTextSplitter\n",
    "from langchain.vectorstores import FAISS\n",
    "from langchain.memory import ConversationBufferMemory\n",
    "from langchain.document_loaders import PyPDFLoader\n",
    "import os\n",
    "import tempfile\n",
    "# As openAi api is not working i am using huggingface access token, it is a bit slower though\n",
    "from langchain import HuggingFaceHub\n"
   ]
  },
  {
   "cell_type": "code",
   "execution_count": 312,
   "metadata": {},
   "outputs": [],
   "source": [
    "from langchain.chains import RetrievalQA\n",
    "from langchain.embeddings import HuggingFaceEmbeddings\n",
    "from langchain.llms import LlamaCpp\n",
    "from langchain.text_splitter import RecursiveCharacterTextSplitter\n",
    "from langchain.vectorstores import FAISS\n",
    "from langchain.document_loaders import PyPDFDirectoryLoader"
   ]
  },
  {
   "cell_type": "code",
   "execution_count": 313,
   "metadata": {},
   "outputs": [],
   "source": [
    "#load pdf files\n",
    "loader = PyPDFDirectoryLoader(\"documents/\")\n",
    "data = loader.load()"
   ]
  },
  {
   "cell_type": "code",
   "execution_count": 314,
   "metadata": {},
   "outputs": [
    {
     "name": "stdout",
     "output_type": "stream",
     "text": [
      "[Document(page_content=\"Sujan\\nSharma\\nML\\nEngineer\\nAssociate\\nTrainee\\n✉\\nsujan.sharm a@ fusem achines.com\\n|\\nLinkedin\\n|\\nGitH ub\\nM achine\\nLearning\\nEngineer\\nTrainee\\nw ith\\na\\nBachelor’s\\nD egree\\nin\\nCom puter\\nEngineering.\\nA\\ndedicated\\nand\\ndetail-oriented\\nindividual\\nw ho\\nis\\nalw ays\\neager\\nto\\nlearn\\nand\\ntake\\non\\nnew\\nchallenges.\\nTransitted\\nthe\\nﬁeld\\nfrom\\na\\nFront\\nEnd\\nD evelopm ent\\nto\\nthe\\nﬁeld\\nof\\nM achine\\nlearning,\\nI\\nbring\\nover\\na\\nyear's\\nw orth\\nof\\nexperience\\nin\\ncreating\\nm any\\nuser\\nengaging\\nw eb\\ninterfaces.\\nPROJECT\\nEXPERIENCE\\nMajor\\nProject\\n-\\nPoint\\nOut\\nCrops\\n●\\nPractical\\nIm plem entation\\nand\\nM odel\\ncom parison\\nand\\nused\\nm ost\\nof\\nthe\\nconcepts\\nregarding\\nD eep\\nlearning\\nand\\nApp\\ndevelopm ent\\nalong\\nw ith\\nIO T.\\n●\\nGot\\nthe\\nhighest\\naccuracy\\nof\\n93.47%\\nw ith\\nResnet50\\nM odel.\\n●\\nUsed\\nRaspberry\\nPi\\nto\\nhost\\nthe\\nclassiﬁcation\\nm odel\\nand\\nautom ate\\nthe\\nrotation\\nand\\nspray\\nof\\nthe\\nm otors.\\n●\\nM ade\\nthe\\nsim ple\\nw ooden\\nfram e\\nto\\nshow\\nhow\\nit\\ncan\\nbe\\npractically\\nim plem ented.\\n●\\nTechnologies\\nUsed\\n:\\n○\\nPython,Tensorﬂow ,D jango\\nAdvance\\nMusic\\nPlayer\\n●\\nM usic\\nplayer\\nsite\\nand\\nhave\\na\\nhom e\\nUI\\nsim ilar\\nto\\nSpotify.\\n●\\nM ost\\nof\\nthe\\nbasic\\nfeatures\\nof\\nInstagram\\nare\\nim plem ented\\nw ith\\nthe\\nuse\\nof\\nM ERN\\nstack.\\n●\\nPeople\\nw ith\\ndifferent\\ntastes\\nin\\nm usic\\ncan\\nlisten,\\nshare\\ntheir\\nview s\\nand\\nalso\\npost\\ntheir\\now n.\\n●\\nTechnologies\\nUsed\\n:\\n○\\nJavascript,React\\nJs,\\nN ode\\nJs,\\nM ongoD B\\n\", metadata={'source': 'documents/Resume within Fusemachines .pdf', 'page': 0}), Document(page_content='CERTIFICATIONS\\n●\\nD ata\\nCleaning\\nand\\nPreprocessing\\nw ith\\npandas\\n●\\nAdvance\\nSQ L\\n●\\nReact\\nJS-\\nCom plete\\nGuide\\nfor\\nFrontend\\nW eb\\nD evelopm ent\\n●\\nD ata\\nScience\\nFellow\\n(\\nFellow ship.ai,\\n2022)\\n●\\nM achine\\nLearning\\nN anodegree\\n(\\nFusem achines,\\n2022\\n)\\nWORK\\nEXPERIENCE\\nMachine\\nlearning\\nassociate\\ntrainee\\n,\\nFusemachines\\nNepal\\nAug\\n2023\\n-\\nPresent,\\nFull\\nTim e\\n●\\nLearned\\nabout\\nm ost\\nof\\nthe\\nbasic\\nprinciples\\nfor\\nefﬁcient\\ncoding\\npattern\\nand\\noptim ization.\\n●\\nPracticed\\nm ost\\nof\\nthe\\ncore\\nconcepts\\nin\\nRelational\\nD atabase\\nlike\\nSQ L\\nand\\nPostgreSql.\\nAnd\\nscaled\\nup\\nthe\\nunderstanding\\nin\\nPandas\\nw ith\\ndata\\ncleaning\\nand\\npreprocessing\\nprocesses.\\nLecturer,\\nVedas\\nCollege\\nM ay\\n2023\\n-\\nPresent,\\nPart\\nTim e\\n●\\nAt\\nVedas\\nCollege\\nI\\nhave\\nbeen\\nteaching\\ntw o\\nsubjects,\\none\\nis\\nCom puter\\narchitecture\\nfor\\nCSIT\\n3rd\\nsem ester\\nand\\nanother\\none\\nis\\nD iscrete\\nstructure\\nfor\\nCSIT\\n2nd\\nsem ester.\\nM y\\nrole\\ninvolves\\ndelivering\\nengaging\\nand\\ninform ative\\nlectures,\\nfacilitating\\ninteractive\\ndiscussions,\\nand\\nguiding\\nstudents\\nthrough\\nhands-on\\npractical\\nexercises.\\nFront-end\\nDeveloper,\\nTreeleaf\\nTechnologies\\nN ov\\n2022\\n-\\nJuly\\n2023,\\nFull\\nTim e\\n●\\nH elped\\nin\\nbuilding\\nthe\\nhelp\\ncenter\\npage\\nfor\\na\\nm ajor\\nproduct\\nof\\nthe\\ncom pany.\\n●\\nEngaged\\nin\\nm aking\\nTrafﬁc\\nviolation\\nrecord\\nsystem\\nm ore\\noptim ized\\nand\\nbug\\nfree,\\nH elped\\nin\\nchanging\\nthe\\narchitecture\\nof\\nthe\\nproject.\\n●\\nBuild\\nm ost\\nof\\nthe\\nem ail\\ntem plates\\nby\\nscratch\\nfor\\nthe\\nm ajor\\nproduct.\\nAnd\\nhad\\ngood\\ncontributions\\nin\\ndashboard\\nand\\nshare-w eb\\napp.\\n●\\nGot\\nto\\nfam iliar\\nand\\nw orked\\non\\nproto-buffer,\\noptim ized\\nstate\\nm anagem ent\\nin\\nreact\\nand\\nnpm\\npackages,\\netc.\\n', metadata={'source': 'documents/Resume within Fusemachines .pdf', 'page': 1}), Document(page_content='SKILLS\\n●\\nProgramming\\nLanguage:\\nPython,\\nJavascript\\n●\\nLibraries:\\nTensorﬂow ,\\nScikit-Learn,\\nPandas,\\nN um Py,\\nM atplotlib,\\nPygam e\\n●\\nFramework:\\nPyTorch,\\nReact\\nJS,\\nN ode\\nJS\\n●\\nDatabase:\\nSQ L,\\nM ongoD B\\n●\\nVersion\\nControl\\nSystem:\\nGit\\n●\\nSequence\\nModels:\\nCN N\\nTRAININGS\\n●\\nJavaScript\\nand\\nReact\\nJs\\n(Genese\\nCloud\\nAcadem y,\\n2020)\\n●\\nLearn\\nReact\\nScrim ba\\n●\\n100\\ndays\\nof\\nD eep\\nLearning\\n●\\nM achine\\nLearning\\nAlgorithm s\\nEDUCATION\\n❖\\nBachelors\\nof\\nComputer\\nEngineering\\nN epal\\nEngineering\\nCollege,\\nPoU\\n2017\\n-\\n2022\\nPokhara\\nUniversity\\nFull\\nScholarship\\nScholar\\nMajor/Elective\\nsubjects:\\n❖\\nCom puter\\nN etw orks\\n❖\\nICT\\nProject\\nM anagem ents\\n❖\\nArtiﬁcial\\nIntelligence\\n', metadata={'source': 'documents/Resume within Fusemachines .pdf', 'page': 2}), Document(page_content='❖\\nIm age\\nProcessing\\nand\\npattern\\nrecognition\\n❖\\nBio-inform atics\\n❖\\nD ata\\nM ining\\n❖\\nHigher\\nSecondary\\n(+2)\\nin\\nScience\\nPrerana\\nH Igher\\nSecondary\\nSchool,\\nH SEB\\n2015\\n-2017\\nHSEB\\nFull\\nScholarship\\nScholar', metadata={'source': 'documents/Resume within Fusemachines .pdf', 'page': 3})]\n"
     ]
    }
   ],
   "source": [
    "print(data)"
   ]
  },
  {
   "cell_type": "code",
   "execution_count": 315,
   "metadata": {},
   "outputs": [
    {
     "data": {
      "text/plain": [
       "[Document(page_content=\"Sujan\\nSharma\\nML\\nEngineer\\nAssociate\\nTrainee\\n✉\\nsujan.sharm a@ fusem achines.com\\n|\\nLinkedin\\n|\\nGitH ub\\nM achine\\nLearning\\nEngineer\\nTrainee\\nw ith\\na\\nBachelor’s\\nD egree\\nin\\nCom puter\\nEngineering.\\nA\\ndedicated\\nand\\ndetail-oriented\\nindividual\\nw ho\\nis\\nalw ays\\neager\\nto\\nlearn\\nand\\ntake\\non\\nnew\\nchallenges.\\nTransitted\\nthe\\nﬁeld\\nfrom\\na\\nFront\\nEnd\\nD evelopm ent\\nto\\nthe\\nﬁeld\\nof\\nM achine\\nlearning,\\nI\\nbring\\nover\\na\\nyear's\\nw orth\\nof\\nexperience\\nin\\ncreating\\nm any\\nuser\\nengaging\\nw eb\\ninterfaces.\\nPROJECT\\nEXPERIENCE\\nMajor\\nProject\\n-\\nPoint\\nOut\\nCrops\\n●\\nPractical\\nIm plem entation\\nand\\nM odel\\ncom parison\\nand\\nused\\nm ost\\nof\\nthe\\nconcepts\\nregarding\\nD eep\\nlearning\\nand\\nApp\\ndevelopm ent\\nalong\\nw ith\\nIO T.\\n●\\nGot\\nthe\\nhighest\\naccuracy\\nof\\n93.47%\\nw ith\\nResnet50\\nM odel.\\n●\\nUsed\\nRaspberry\\nPi\\nto\\nhost\\nthe\\nclassiﬁcation\\nm odel\\nand\\nautom ate\\nthe\\nrotation\\nand\\nspray\\nof\\nthe\\nm otors.\\n●\\nM ade\\nthe\\nsim ple\\nw ooden\\nfram e\\nto\\nshow\\nhow\\nit\\ncan\\nbe\\npractically\\nim plem ented.\\n●\\nTechnologies\\nUsed\\n:\\n○\\nPython,Tensorﬂow ,D jango\\nAdvance\\nMusic\\nPlayer\\n●\\nM usic\\nplayer\\nsite\\nand\\nhave\\na\\nhom e\\nUI\\nsim ilar\\nto\\nSpotify.\\n●\\nM ost\\nof\\nthe\\nbasic\\nfeatures\\nof\\nInstagram\\nare\\nim plem ented\\nw ith\\nthe\\nuse\\nof\\nM ERN\\nstack.\\n●\\nPeople\\nw ith\\ndifferent\\ntastes\\nin\\nm usic\\ncan\\nlisten,\\nshare\\ntheir\\nview s\\nand\\nalso\\npost\\ntheir\\now n.\\n●\\nTechnologies\\nUsed\\n:\\n○\\nJavascript,React\\nJs,\\nN ode\\nJs,\\nM ongoD B\", metadata={'source': 'documents/Resume within Fusemachines .pdf', 'page': 0}),\n",
       " Document(page_content='CERTIFICATIONS\\n●\\nD ata\\nCleaning\\nand\\nPreprocessing\\nw ith\\npandas\\n●\\nAdvance\\nSQ L\\n●\\nReact\\nJS-\\nCom plete\\nGuide\\nfor\\nFrontend\\nW eb\\nD evelopm ent\\n●\\nD ata\\nScience\\nFellow\\n(\\nFellow ship.ai,\\n2022)\\n●\\nM achine\\nLearning\\nN anodegree\\n(\\nFusem achines,\\n2022\\n)\\nWORK\\nEXPERIENCE\\nMachine\\nlearning\\nassociate\\ntrainee\\n,\\nFusemachines\\nNepal\\nAug\\n2023\\n-\\nPresent,\\nFull\\nTim e\\n●\\nLearned\\nabout\\nm ost\\nof\\nthe\\nbasic\\nprinciples\\nfor\\nefﬁcient\\ncoding\\npattern\\nand\\noptim ization.\\n●\\nPracticed\\nm ost\\nof\\nthe\\ncore\\nconcepts\\nin\\nRelational\\nD atabase\\nlike\\nSQ L\\nand\\nPostgreSql.\\nAnd\\nscaled\\nup\\nthe\\nunderstanding\\nin\\nPandas\\nw ith\\ndata\\ncleaning\\nand\\npreprocessing\\nprocesses.\\nLecturer,\\nVedas\\nCollege\\nM ay\\n2023\\n-\\nPresent,\\nPart\\nTim e\\n●\\nAt\\nVedas\\nCollege\\nI\\nhave\\nbeen\\nteaching\\ntw o\\nsubjects,\\none\\nis\\nCom puter\\narchitecture\\nfor\\nCSIT\\n3rd\\nsem ester\\nand\\nanother\\none\\nis\\nD iscrete\\nstructure\\nfor\\nCSIT\\n2nd\\nsem ester.\\nM y\\nrole\\ninvolves\\ndelivering\\nengaging\\nand\\ninform ative\\nlectures,\\nfacilitating\\ninteractive\\ndiscussions,\\nand\\nguiding\\nstudents\\nthrough\\nhands-on\\npractical\\nexercises.\\nFront-end\\nDeveloper,\\nTreeleaf\\nTechnologies\\nN ov\\n2022\\n-\\nJuly\\n2023,\\nFull\\nTim e\\n●\\nH elped\\nin\\nbuilding\\nthe\\nhelp\\ncenter\\npage\\nfor\\na\\nm ajor\\nproduct\\nof\\nthe\\ncom pany.\\n●\\nEngaged\\nin\\nm aking\\nTrafﬁc\\nviolation\\nrecord\\nsystem\\nm ore\\noptim ized\\nand\\nbug\\nfree,\\nH elped\\nin\\nchanging\\nthe\\narchitecture\\nof\\nthe\\nproject.\\n●\\nBuild\\nm ost\\nof\\nthe\\nem ail\\ntem plates\\nby\\nscratch\\nfor\\nthe\\nm ajor\\nproduct.\\nAnd\\nhad\\ngood\\ncontributions\\nin\\ndashboard\\nand\\nshare-w eb\\napp.\\n●\\nGot\\nto\\nfam iliar\\nand\\nw orked\\non\\nproto-buffer,\\noptim ized\\nstate\\nm anagem ent\\nin\\nreact\\nand\\nnpm\\npackages,\\netc.', metadata={'source': 'documents/Resume within Fusemachines .pdf', 'page': 1}),\n",
       " Document(page_content='SKILLS\\n●\\nProgramming\\nLanguage:\\nPython,\\nJavascript\\n●\\nLibraries:\\nTensorﬂow ,\\nScikit-Learn,\\nPandas,\\nN um Py,\\nM atplotlib,\\nPygam e\\n●\\nFramework:\\nPyTorch,\\nReact\\nJS,\\nN ode\\nJS\\n●\\nDatabase:\\nSQ L,\\nM ongoD B\\n●\\nVersion\\nControl\\nSystem:\\nGit\\n●\\nSequence\\nModels:\\nCN N\\nTRAININGS\\n●\\nJavaScript\\nand\\nReact\\nJs\\n(Genese\\nCloud\\nAcadem y,\\n2020)\\n●\\nLearn\\nReact\\nScrim ba\\n●\\n100\\ndays\\nof\\nD eep\\nLearning\\n●\\nM achine\\nLearning\\nAlgorithm s\\nEDUCATION\\n❖\\nBachelors\\nof\\nComputer\\nEngineering\\nN epal\\nEngineering\\nCollege,\\nPoU\\n2017\\n-\\n2022\\nPokhara\\nUniversity\\nFull\\nScholarship\\nScholar\\nMajor/Elective\\nsubjects:\\n❖\\nCom puter\\nN etw orks\\n❖\\nICT\\nProject\\nM anagem ents\\n❖\\nArtiﬁcial\\nIntelligence', metadata={'source': 'documents/Resume within Fusemachines .pdf', 'page': 2}),\n",
       " Document(page_content='❖\\nIm age\\nProcessing\\nand\\npattern\\nrecognition\\n❖\\nBio-inform atics\\n❖\\nD ata\\nM ining\\n❖\\nHigher\\nSecondary\\n(+2)\\nin\\nScience\\nPrerana\\nH Igher\\nSecondary\\nSchool,\\nH SEB\\n2015\\n-2017\\nHSEB\\nFull\\nScholarship\\nScholar', metadata={'source': 'documents/Resume within Fusemachines .pdf', 'page': 3})]"
      ]
     },
     "execution_count": 315,
     "metadata": {},
     "output_type": "execute_result"
    }
   ],
   "source": [
    "#Step 05: Split the Extracted Data into Text Chunks\n",
    "text_splitter = RecursiveCharacterTextSplitter(chunk_size=10000, chunk_overlap=20)\n",
    "\n",
    "text_chunks = text_splitter.split_documents(data)\n",
    "text_chunks"
   ]
  },
  {
   "cell_type": "code",
   "execution_count": 316,
   "metadata": {},
   "outputs": [],
   "source": [
    "#Step 06:Downlaod the Embeddings\n",
    "embeddings = HuggingFaceEmbeddings(model_name=\"sentence-transformers/all-MiniLM-L6-v2\")\n"
   ]
  },
  {
   "cell_type": "code",
   "execution_count": 317,
   "metadata": {},
   "outputs": [
    {
     "data": {
      "text/plain": [
       "<langchain.vectorstores.faiss.FAISS at 0x7f916cfcddf0>"
      ]
     },
     "execution_count": 317,
     "metadata": {},
     "output_type": "execute_result"
    }
   ],
   "source": [
    "#Step 08: Create Embeddings for each of the Text Chunk\n",
    "vector_store = FAISS.from_documents(text_chunks, embedding=embeddings)\n",
    "vector_store"
   ]
  },
  {
   "cell_type": "code",
   "execution_count": 318,
   "metadata": {},
   "outputs": [],
   "source": [
    "model_id = \"mistralai/Mistral-7B-Instruct-v0.1\""
   ]
  },
  {
   "cell_type": "code",
   "execution_count": 319,
   "metadata": {},
   "outputs": [],
   "source": [
    "from langchain import HuggingFaceHub\n",
    "from tokenconstant import HUGGINGGACE_API_TOKEN"
   ]
  },
  {
   "cell_type": "code",
   "execution_count": 320,
   "metadata": {},
   "outputs": [
    {
     "name": "stderr",
     "output_type": "stream",
     "text": [
      "/media/sujan/Sujan/1FuseMachinesFiles/SkillUp-LLMs/Langchain/stream-lit-app/env/lib/python3.8/site-packages/huggingface_hub/utils/_deprecation.py:127: FutureWarning: '__init__' (from 'huggingface_hub.inference_api') is deprecated and will be removed from version '0.19.0'. `InferenceApi` client is deprecated in favor of the more feature-complete `InferenceClient`. Check out this guide to learn how to convert your script to use it: https://huggingface.co/docs/huggingface_hub/guides/inference#legacy-inferenceapi-client.\n",
      "  warnings.warn(warning_message, FutureWarning)\n"
     ]
    }
   ],
   "source": [
    "llm = HuggingFaceHub(huggingfacehub_api_token=HUGGINGGACE_API_TOKEN,\n",
    "                         repo_id=model_id,\n",
    "                         model_kwargs={\"temperature\": 0.1, \"max_new_tokens\": 200})\n",
    "# combine_docs_chain = StuffDocumentsChain(verbose=True)\n"
   ]
  },
  {
   "cell_type": "code",
   "execution_count": 321,
   "metadata": {},
   "outputs": [],
   "source": [
    "# template = \"\"\"\n",
    "#     Your task is to help a Hiring manager of the Tech Company.\n",
    "#     The name of the user is given at top part of the document mostly so find the name and if the name is asked then return in single word.\n",
    "#     If there is Question related to education is asked then you can find the answer in Education portion.\n",
    "#     If there is Question related to work experience is asked then you can find the answer in Experience portion.\n",
    "#     If there is Question related to projects is asked then you can find the answer in Projects portion.\n",
    "#     If there is Question related to technical Skills is asked then you can find the answer in Skills/ Technical Skills portion.\n",
    "#     If there is Question related to certificates from courses or videos is asked  then you can find the answer in Certificates portion.\n",
    "#     If there is Question related to interested areas or hobbies is asked then you can find the answer in Interest or Hobby portion.\n",
    "#     If there is Question related to education is asked then you can find the answer in Education portion.\n",
    "#     If there is Question related to education is asked then you can find the answer in Education portion.\n",
    "#     The date are present in start to end format for Experience and Education portion.\n",
    "    \n",
    "# {context}\n",
    "\n",
    "# Question: {question}\n",
    "# \"\"\"\n",
    "    # You should find one answer for any question is asked in above areas, not more than that.\n"
   ]
  },
  {
   "cell_type": "code",
   "execution_count": 322,
   "metadata": {},
   "outputs": [],
   "source": [
    "from langchain.prompts.prompt import PromptTemplate\n",
    "template = \"\"\"\n",
    "    Your task is to help a Hiring manager of the Tech Company.\n",
    "    The name of the user is given at top part of the document mostly so find the name and if the name is asked then return in single word.\n",
    "    For Education related question get answer from Education portion,\n",
    "    For projects related question get answer from projects portion,\n",
    "    For certificates related question get answer from certificates portion,\n",
    "    For interested areas or hobbies related question get answer from Interest or Hobby portion,\n",
    "    For work experience related question get answer from work experience portion,\n",
    "    For technical Skills related question get answer from technical Skills portion,\n",
    "    The date are present in start to end format for Experience and Education portion. \n",
    "    There may not exist any of above portion then return Relevent information is not provided.\n",
    "    \n",
    "{context}\n",
    "\n",
    "Question: {question}\n",
    "\"\"\"\n",
    "\n",
    "\n",
    "PROMPT = PromptTemplate(\n",
    "    template=template, input_variables=[\"context\", \"question\"]\n",
    ")\n",
    "chain_type_kwargs = {\"prompt\": PROMPT}\n",
    "qa = RetrievalQA.from_chain_type(llm=llm, chain_type=\"stuff\", retriever=vector_store.as_retriever(), chain_type_kwargs=chain_type_kwargs)"
   ]
  },
  {
   "cell_type": "code",
   "execution_count": 345,
   "metadata": {},
   "outputs": [
    {
     "name": "stdout",
     "output_type": "stream",
     "text": [
      "====================================\n",
      "==================================== \n",
      "\n",
      "Point Out Crops\n",
      "------------------------\n",
      "[]\n"
     ]
    }
   ],
   "source": [
    "import re\n",
    "\n",
    "query = \"What is the name of the user’s first project?\"\n",
    "\n",
    "result = qa.run(query)\n",
    "print(\"====================================\")\n",
    "# print(result)\n",
    "print(\"==================================== \\n\")\n",
    "\n",
    "lines = result.strip().split('\\n')\n",
    "\n",
    "match = re.search(r'Answer:(.*?)Question:', result, re.DOTALL)\n",
    "\n",
    "first_answer = \"\"\n",
    "rest_of_questions = []\n",
    "\n",
    "i = 0\n",
    "while i < len(lines):\n",
    "    if lines[i].startswith('Answer'):\n",
    "        if match:\n",
    "            first_answer = match.group(1).strip()\n",
    "        else:\n",
    "            first_answer = lines[i][8:]\n",
    "        i += 1\n",
    "        while i < len(lines) and not lines[i].startswith('Question'):\n",
    "            i += 1\n",
    "    elif lines[i].startswith('Question'):\n",
    "        rest_of_questions.append(lines[i][10:])\n",
    "        i += 1\n",
    "    else:\n",
    "        i += 1\n",
    "\n",
    "print(first_answer)\n",
    "print(\"------------------------\")\n",
    "print(rest_of_questions)"
   ]
  },
  {
   "cell_type": "code",
   "execution_count": 324,
   "metadata": {},
   "outputs": [],
   "source": [
    "from langchain.prompts import (\n",
    "    SystemMessagePromptTemplate,\n",
    "    HumanMessagePromptTemplate,\n",
    "    ChatPromptTemplate,\n",
    "    MessagesPlaceholder\n",
    ")"
   ]
  },
  {
   "cell_type": "code",
   "execution_count": 325,
   "metadata": {},
   "outputs": [],
   "source": [
    "system_msg_template = SystemMessagePromptTemplate.from_template(template=\"\"\"Answer the question as truthfully as possible using the provided context, \n",
    "and if the answer is not contained within the text below, say 'I don't know',\n",
    "                                                                \n",
    "                                                                  'Your task is to help a Hiring manager of the Tech Company.\n",
    "    The name of the user is given at top part of the document mostly so find the name and if the name is asked then return in single word.\n",
    "    Find the corresponding answer from different portion of the provided.\n",
    "    If there is anything related to education is asked then you can find the answer in Education portion.\n",
    "    If there is anything related to work experience is asked then you can find the answer in Experience portion.\n",
    "    If there is anything related to projects is asked then you can find the answer in Projects portion.\n",
    "    If there is anything related to technical Skills is asked then you can find the answer in Skills/ Technical Skills portion.\n",
    "    If there is anything related to certificates from courses or videos is asked  then you can find the answer in Certificates portion.\n",
    "    If there is anything related to interested areas or hobbies is asked then you can find the answer in Interest or Hobby portion.\n",
    "    If there is anything related to education is asked then you can find the answer in Education portion.\n",
    "    If there is anything related to education is asked then you can find the answer in Education portion.\n",
    "    The date are present in start to end format for Experience and Education portion.'\n",
    "                                                                \"\"\")\n",
    "\n",
    "\n",
    "human_msg_template = HumanMessagePromptTemplate.from_template(template=\"{input}\")\n",
    "\n",
    "prompt_template = ChatPromptTemplate.from_messages([system_msg_template, MessagesPlaceholder(variable_name=\"history\"), human_msg_template])\n",
    "\n",
    "memory = ConversationBufferMemory(return_messages=True)#\n",
    "\n",
    "conversation = ConversationChain(memory=memory, prompt=prompt_template, llm=llm, verbose=True )\n",
    "\n"
   ]
  },
  {
   "cell_type": "code",
   "execution_count": 326,
   "metadata": {},
   "outputs": [
    {
     "name": "stdout",
     "output_type": "stream",
     "text": [
      "\n",
      "\n",
      "\u001b[1m> Entering new ConversationChain chain...\u001b[0m\n",
      "Prompt after formatting:\n",
      "\u001b[32;1m\u001b[1;3mSystem: Answer the question as truthfully as possible using the provided context, \n",
      "and if the answer is not contained within the text below, say 'I don't know',\n",
      "                                                                \n",
      "                                                                  'Your task is to help a Hiring manager of the Tech Company.\n",
      "    The name of the user is given at top part of the document mostly so find the name and if the name is asked then return in single word.\n",
      "    Find the corresponding answer from different portion of the provided.\n",
      "    If there is anything related to education is asked then you can find the answer in Education portion.\n",
      "    If there is anything related to work experience is asked then you can find the answer in Experience portion.\n",
      "    If there is anything related to projects is asked then you can find the answer in Projects portion.\n",
      "    If there is anything related to technical Skills is asked then you can find the answer in Skills/ Technical Skills portion.\n",
      "    If there is anything related to certificates from courses or videos is asked  then you can find the answer in Certificates portion.\n",
      "    If there is anything related to interested areas or hobbies is asked then you can find the answer in Interest or Hobby portion.\n",
      "    If there is anything related to education is asked then you can find the answer in Education portion.\n",
      "    If there is anything related to education is asked then you can find the answer in Education portion.\n",
      "    The date are present in start to end format for Experience and Education portion.'\n",
      "                                                                \n",
      "Human: Query:Who is sujan sharma?\u001b[0m\n",
      "\n",
      "\u001b[1m> Finished chain.\u001b[0m\n"
     ]
    },
    {
     "data": {
      "text/plain": [
       "'\\n\\nAI: Sujan Sharma is the name of the user.'"
      ]
     },
     "execution_count": 326,
     "metadata": {},
     "output_type": "execute_result"
    }
   ],
   "source": [
    "query =\"Who is sujan sharma?\"\n",
    "conversation.predict(input=f\"Query:{query}\")"
   ]
  },
  {
   "cell_type": "code",
   "execution_count": 327,
   "metadata": {},
   "outputs": [],
   "source": [
    "query = \"What is his name?\""
   ]
  },
  {
   "cell_type": "code",
   "execution_count": 328,
   "metadata": {},
   "outputs": [
    {
     "data": {
      "text/plain": [
       "'\\nAnswer: Sujan Sharma'"
      ]
     },
     "execution_count": 328,
     "metadata": {},
     "output_type": "execute_result"
    }
   ],
   "source": [
    "qa.run(query)"
   ]
  },
  {
   "cell_type": "code",
   "execution_count": null,
   "metadata": {},
   "outputs": [],
   "source": []
  },
  {
   "cell_type": "code",
   "execution_count": null,
   "metadata": {},
   "outputs": [],
   "source": []
  },
  {
   "cell_type": "code",
   "execution_count": null,
   "metadata": {},
   "outputs": [],
   "source": []
  },
  {
   "cell_type": "code",
   "execution_count": 329,
   "metadata": {},
   "outputs": [],
   "source": [
    "from langchain.document_loaders import TextLoader\n"
   ]
  },
  {
   "cell_type": "code",
   "execution_count": 330,
   "metadata": {},
   "outputs": [
    {
     "data": {
      "text/plain": [
       "[Document(page_content='', metadata={'source': 'documents/nepalwekipedia.txt'})]"
      ]
     },
     "execution_count": 330,
     "metadata": {},
     "output_type": "execute_result"
    }
   ],
   "source": [
    "loader = TextLoader(\"documents/nepalwekipedia.txt\")\n",
    "txtdata = loader.load()\n",
    "txtdata"
   ]
  },
  {
   "cell_type": "code",
   "execution_count": 331,
   "metadata": {},
   "outputs": [
    {
     "data": {
      "text/plain": [
       "[Document(page_content=\"Sujan\\nSharma\\nML\\nEngineer\\nAssociate\\nTrainee\\n✉\\nsujan.sharm a@ fusem achines.com\\n|\\nLinkedin\\n|\\nGitH ub\\nM achine\\nLearning\\nEngineer\\nTrainee\\nw ith\\na\\nBachelor’s\\nD egree\\nin\\nCom puter\\nEngineering.\\nA\\ndedicated\\nand\\ndetail-oriented\\nindividual\\nw ho\\nis\\nalw ays\\neager\\nto\\nlearn\\nand\\ntake\\non\\nnew\\nchallenges.\\nTransitted\\nthe\\nﬁeld\\nfrom\\na\\nFront\\nEnd\\nD evelopm ent\\nto\\nthe\\nﬁeld\\nof\\nM achine\\nlearning,\\nI\\nbring\\nover\\na\\nyear's\\nw orth\\nof\\nexperience\\nin\\ncreating\\nm any\\nuser\\nengaging\\nw eb\\ninterfaces.\\nPROJECT\\nEXPERIENCE\\nMajor\\nProject\\n-\\nPoint\\nOut\\nCrops\\n●\\nPractical\\nIm plem entation\\nand\\nM odel\\ncom parison\\nand\\nused\\nm ost\\nof\\nthe\\nconcepts\\nregarding\\nD eep\\nlearning\\nand\\nApp\\ndevelopm ent\\nalong\\nw ith\\nIO T.\\n●\\nGot\\nthe\\nhighest\\naccuracy\\nof\\n93.47%\\nw ith\\nResnet50\\nM odel.\\n●\\nUsed\\nRaspberry\\nPi\\nto\\nhost\\nthe\\nclassiﬁcation\\nm odel\\nand\\nautom ate\\nthe\\nrotation\\nand\\nspray\\nof\\nthe\\nm otors.\\n●\\nM ade\\nthe\\nsim ple\\nw ooden\\nfram e\\nto\\nshow\\nhow\\nit\\ncan\\nbe\\npractically\\nim plem ented.\\n●\\nTechnologies\\nUsed\\n:\\n○\\nPython,Tensorﬂow ,D jango\\nAdvance\\nMusic\\nPlayer\\n●\\nM usic\\nplayer\\nsite\\nand\\nhave\\na\\nhom e\\nUI\\nsim ilar\\nto\\nSpotify.\\n●\\nM ost\\nof\\nthe\\nbasic\\nfeatures\\nof\\nInstagram\\nare\\nim plem ented\\nw ith\\nthe\\nuse\\nof\\nM ERN\\nstack.\\n●\\nPeople\\nw ith\\ndifferent\\ntastes\\nin\\nm usic\\ncan\\nlisten,\\nshare\\ntheir\\nview s\\nand\\nalso\\npost\\ntheir\\now n.\\n●\\nTechnologies\\nUsed\\n:\\n○\\nJavascript,React\\nJs,\\nN ode\\nJs,\\nM ongoD B\", metadata={'source': 'documents/Resume within Fusemachines .pdf', 'page': 0}),\n",
       " Document(page_content='CERTIFICATIONS\\n●\\nD ata\\nCleaning\\nand\\nPreprocessing\\nw ith\\npandas\\n●\\nAdvance\\nSQ L\\n●\\nReact\\nJS-\\nCom plete\\nGuide\\nfor\\nFrontend\\nW eb\\nD evelopm ent\\n●\\nD ata\\nScience\\nFellow\\n(\\nFellow ship.ai,\\n2022)\\n●\\nM achine\\nLearning\\nN anodegree\\n(\\nFusem achines,\\n2022\\n)\\nWORK\\nEXPERIENCE\\nMachine\\nlearning\\nassociate\\ntrainee\\n,\\nFusemachines\\nNepal\\nAug\\n2023\\n-\\nPresent,\\nFull\\nTim e\\n●\\nLearned\\nabout\\nm ost\\nof\\nthe\\nbasic\\nprinciples\\nfor\\nefﬁcient\\ncoding\\npattern\\nand\\noptim ization.\\n●\\nPracticed\\nm ost\\nof\\nthe\\ncore\\nconcepts\\nin\\nRelational\\nD atabase\\nlike\\nSQ L\\nand\\nPostgreSql.\\nAnd\\nscaled\\nup\\nthe\\nunderstanding\\nin\\nPandas\\nw ith\\ndata\\ncleaning\\nand\\npreprocessing\\nprocesses.\\nLecturer,\\nVedas\\nCollege\\nM ay\\n2023\\n-\\nPresent,\\nPart\\nTim e\\n●\\nAt\\nVedas\\nCollege\\nI\\nhave\\nbeen\\nteaching\\ntw o\\nsubjects,\\none\\nis\\nCom puter\\narchitecture\\nfor\\nCSIT\\n3rd\\nsem ester\\nand\\nanother\\none\\nis\\nD iscrete\\nstructure\\nfor\\nCSIT\\n2nd\\nsem ester.\\nM y\\nrole\\ninvolves\\ndelivering\\nengaging\\nand\\ninform ative\\nlectures,\\nfacilitating\\ninteractive\\ndiscussions,\\nand\\nguiding\\nstudents\\nthrough\\nhands-on\\npractical\\nexercises.\\nFront-end\\nDeveloper,\\nTreeleaf\\nTechnologies\\nN ov\\n2022\\n-\\nJuly\\n2023,\\nFull\\nTim e\\n●\\nH elped\\nin\\nbuilding\\nthe\\nhelp\\ncenter\\npage\\nfor\\na\\nm ajor\\nproduct\\nof\\nthe\\ncom pany.\\n●\\nEngaged\\nin\\nm aking\\nTrafﬁc\\nviolation\\nrecord\\nsystem\\nm ore\\noptim ized\\nand\\nbug\\nfree,\\nH elped\\nin\\nchanging\\nthe\\narchitecture\\nof\\nthe\\nproject.\\n●\\nBuild\\nm ost\\nof\\nthe\\nem ail\\ntem plates\\nby\\nscratch\\nfor\\nthe\\nm ajor\\nproduct.\\nAnd\\nhad\\ngood\\ncontributions\\nin\\ndashboard\\nand\\nshare-w eb\\napp.\\n●\\nGot\\nto\\nfam iliar\\nand\\nw orked\\non\\nproto-buffer,\\noptim ized\\nstate\\nm anagem ent\\nin\\nreact\\nand\\nnpm\\npackages,\\netc.', metadata={'source': 'documents/Resume within Fusemachines .pdf', 'page': 1}),\n",
       " Document(page_content='SKILLS\\n●\\nProgramming\\nLanguage:\\nPython,\\nJavascript\\n●\\nLibraries:\\nTensorﬂow ,\\nScikit-Learn,\\nPandas,\\nN um Py,\\nM atplotlib,\\nPygam e\\n●\\nFramework:\\nPyTorch,\\nReact\\nJS,\\nN ode\\nJS\\n●\\nDatabase:\\nSQ L,\\nM ongoD B\\n●\\nVersion\\nControl\\nSystem:\\nGit\\n●\\nSequence\\nModels:\\nCN N\\nTRAININGS\\n●\\nJavaScript\\nand\\nReact\\nJs\\n(Genese\\nCloud\\nAcadem y,\\n2020)\\n●\\nLearn\\nReact\\nScrim ba\\n●\\n100\\ndays\\nof\\nD eep\\nLearning\\n●\\nM achine\\nLearning\\nAlgorithm s\\nEDUCATION\\n❖\\nBachelors\\nof\\nComputer\\nEngineering\\nN epal\\nEngineering\\nCollege,\\nPoU\\n2017\\n-\\n2022\\nPokhara\\nUniversity\\nFull\\nScholarship\\nScholar\\nMajor/Elective\\nsubjects:\\n❖\\nCom puter\\nN etw orks\\n❖\\nICT\\nProject\\nM anagem ents\\n❖\\nArtiﬁcial\\nIntelligence', metadata={'source': 'documents/Resume within Fusemachines .pdf', 'page': 2}),\n",
       " Document(page_content='❖\\nIm age\\nProcessing\\nand\\npattern\\nrecognition\\n❖\\nBio-inform atics\\n❖\\nD ata\\nM ining\\n❖\\nHigher\\nSecondary\\n(+2)\\nin\\nScience\\nPrerana\\nH Igher\\nSecondary\\nSchool,\\nH SEB\\n2015\\n-2017\\nHSEB\\nFull\\nScholarship\\nScholar', metadata={'source': 'documents/Resume within Fusemachines .pdf', 'page': 3})]"
      ]
     },
     "execution_count": 331,
     "metadata": {},
     "output_type": "execute_result"
    }
   ],
   "source": [
    "text_splitter = RecursiveCharacterTextSplitter(chunk_size=10000, chunk_overlap=20)\n",
    "\n",
    "text_chunks = text_splitter.split_documents(data)\n",
    "text_chunks"
   ]
  }
 ],
 "metadata": {
  "kernelspec": {
   "display_name": "env",
   "language": "python",
   "name": "python3"
  },
  "language_info": {
   "codemirror_mode": {
    "name": "ipython",
    "version": 3
   },
   "file_extension": ".py",
   "mimetype": "text/x-python",
   "name": "python",
   "nbconvert_exporter": "python",
   "pygments_lexer": "ipython3",
   "version": "3.8.10"
  }
 },
 "nbformat": 4,
 "nbformat_minor": 2
}
